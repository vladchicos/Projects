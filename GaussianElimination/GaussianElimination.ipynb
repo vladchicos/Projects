{
 "cells": [
  {
   "cell_type": "markdown",
   "metadata": {},
   "source": [
    "# Rezolvarea sistemelor liniare determinate.\n",
    "# Sisteme triunghiulare.\n",
    "# Eliminarea gaussiană.\n"
   ]
  },
  {
   "cell_type": "markdown",
   "metadata": {},
   "source": [
    "### 2.2.1 Rezolvarea sistemelor triunghiulare"
   ]
  },
  {
   "cell_type": "markdown",
   "metadata": {},
   "source": [
    "Algoritmii pentru rezolvarea sistemelor triunghiulare sunt foarte\n",
    "simpli, întrucât necunoscutele pot fi calculate, într-o ordine definită,\n",
    "prin substituţie numerică directă. Considerăm, mai întâi, un sistem\n",
    "inferior triunghiular $$Lx = b,$$ unde $L \\in {\\mathbb R}^{n\\times n}$,\n",
    "cu $l_{ij} = 0$ pentru $i<j$, $l_{ii} \\ne 0$, $i=1:n$, şi\n",
    "$b \\in {\\mathbb R}^n$. Prima ecuaţie este $$l_{11} x_1 = b_1,$$ de unde\n",
    "$$x_1 = b_1 / l_{11}.\n",
    "\\label{eq:l1}$$ În general, dacă ştim $x_1$, $x_2$, ..., $x_{i-1}$,\n",
    "putem rezolva ecuaţia $i$\n",
    "$$\\sum_{j=1}^{i-1}{l_{ij} x_j} + l_{ii} x_i = b_i$$ şi obţinem\n",
    "$$x_i = \\left( b_i - \\sum_{k=1}^{i-1}{l_{ij} x_j} \\right) / l_{ii}.\n",
    "\\label{eq:li}$$"
   ]
  },
  {
   "cell_type": "markdown",
   "metadata": {},
   "source": [
    "ALGORITM 2.1 _(S\\_INF\\_TR)_ (Dată o matrice $L\\in {\\mathbb R}^{n\\times n}$,\n",
    "nesingulară, inferior triunghiulară şi un vector $b\\in{\\mathbb R}^n$,\n",
    "algoritmul calculează soluţia $x$ a sistemului $Lx=b$.)\n",
    "\n",
    "1. **pentru** $i=1:n$<br>\n",
    "&emsp;&emsp;1. $s \\leftarrow b_i$<br>\n",
    "&emsp;&emsp;2. **pentru** $j=1:i-1$<br>\n",
    "&emsp;&emsp;&emsp;&emsp;1. $s \\leftarrow s - l_{ij} x_j$<br>\n",
    "&emsp;&emsp;3. $x_i \\leftarrow s/l_{ii}$\n",
    " \n",
    "\n",
    "\n",
    "Acest algoritm necesită $N_{S\\_INF\\_TR}\\approx n^2$ flopi şi\n",
    "$M_{S\\_INF\\_TR}\\approx n^2/2$ locaţii de memorie. Dacă vectorul $b$ nu\n",
    "mai este necesar, soluţia $x$ poate suprascrie vectorul $b$ pe măsură ce\n",
    "este calculată.\n"
   ]
  },
  {
   "cell_type": "code",
   "execution_count": 1,
   "metadata": {},
   "outputs": [
    {
     "name": "stdout",
     "output_type": "stream",
     "text": [
      "Corect!\n",
      "eroare :  6.733577917790594e-13\n"
     ]
    }
   ],
   "source": [
    "import numpy as np\n",
    "#Algoritm s_inf_tr\n",
    "def s_inf_tr(A,b):\n",
    "    n = A.shape[0]\n",
    "    x = np.zeros((n,1))\n",
    "    for i in range(n):\n",
    "        s = b[i]\n",
    "        for j in range(i):\n",
    "            s = s - (A[i][j] * x[j])\n",
    "        x[i] = s/A[i][i]\n",
    "    return x\n",
    "\n",
    "#Verificare\n",
    "n = 25\n",
    "A = np.random.rand(n,n)\n",
    "A = np.tril(A) #matrice inferior triunghiulara\n",
    "b = np.random.rand(n,1)\n",
    "# eroare = ||b-Ax||/||b||\n",
    "eroare = np.linalg.norm(b-np.matmul(A,s_inf_tr(A,b)),2)/np.linalg.norm(b,2)\n",
    "if eroare < 1E-4:\n",
    "    print('Corect!')\n",
    "else:\n",
    "    print('Gresit!!')\n",
    "print('eroare : ',eroare)"
   ]
  },
  {
   "cell_type": "markdown",
   "metadata": {},
   "source": [
    "ALGORITM 2.2 _(S\\_SUP\\_TR)_ (Dată o matrice $U \\in {\\mathbb R}^{n \\times n}$,\n",
    "superior triunghiulară, nesingulară şi un vector $b\\in {\\mathbb R}^n$,\n",
    "acest algoritm calculează soluţia $x$ a sistemului $Ux=b$.)\n",
    "\n",
    "1. **pentru** $i=n:-1:1$<br>\n",
    "&emsp;&emsp;1. $s \\leftarrow b_i$<br>\n",
    "&emsp;&emsp;2. **pentru** $j=i+1:n$<br>\n",
    "&emsp;&emsp;&emsp;&emsp;1. $s \\leftarrow s-u_{ij}x_j$<br>\n",
    "&emsp;&emsp;3. $x_i \\leftarrow s/u_{ii}$<br>\n",
    "Ca şi în cazul inferior triunghiular, efortul de calcul este dat de\n",
    "$N_{S\\_SUP\\_TR}=n^2$ flopi şi memoria necesară este\n",
    "$M_{S\\_SUP\\_TR}\\approx n^2/2$ locaţii."
   ]
  },
  {
   "cell_type": "code",
   "execution_count": 2,
   "metadata": {},
   "outputs": [
    {
     "name": "stdout",
     "output_type": "stream",
     "text": [
      "Corect!\n",
      "eroare :  3.46371016155987e-09\n"
     ]
    }
   ],
   "source": [
    "def s_sup_tr(A,b):\n",
    "    n = A.shape[0]\n",
    "    x = np.zeros((n,1))\n",
    "    for i in range(n-1,-1,-1):\n",
    "        s = b[i];\n",
    "        for j in range(i+1,n):\n",
    "            s = s - A[i][j] * x[j]\n",
    "        x[i] = s/A[i][i]\n",
    "    return x\n",
    "\n",
    "#Verificare\n",
    "n = 25\n",
    "A = np.random.rand(n,n)\n",
    "A = np.triu(A) #matrice superior triunghiulară\n",
    "b = np.random.rand(n,1) \n",
    "# eroare = ||b-Ax||/||b||\n",
    "eroare = np.linalg.norm(b-np.matmul(A,s_sup_tr(A,b)),2)/np.linalg.norm(b,2)\n",
    "if eroare < 1E-4:\n",
    "    print('Corect!')\n",
    "else:\n",
    "    print('Gresit!!')\n",
    "print('eroare : ',eroare)"
   ]
  },
  {
   "cell_type": "markdown",
   "metadata": {},
   "source": [
    "### 2.3 Eliminarea Gaussiană"
   ]
  },
  {
   "cell_type": "markdown",
   "metadata": {},
   "source": [
    "Eliminarea gaussiană este o tehnică pentru reducerea sistemului $Ax=b$\n",
    "la un sistem superior triunghiular echivalent $$MAx=Mb,$$ i.e. cu\n",
    "matricea $U=MA$ superior triunghiulară. Matricea de transformare $M$\n",
    "este o matrice inferior triunghiulară unitară obţinută ca o secvenţă\n",
    "(produs) de transformări (matrice) inferior triunghiulare elementare\n",
    "$$M = M_{n-1} M_{n-2} \\ldots M_1.$$ O matrice inferior triunghiulară\n",
    "elementară (ITE) de ordin $n$ şi indice $k$ este o matrice de forma\n",
    "$$M_k = I_n - m_k e_k^T,\\quad\n",
    "  m_k=[\\underbrace{0 \\ \\ldots \\ 0}_{k} \\ \\mu_{k+1,k} \\ \\ldots \\ \\mu_{nk}]^T.$$"
   ]
  },
  {
   "cell_type": "markdown",
   "metadata": {},
   "source": [
    "ALGORITM 2.3 _\\(G)_ (Dată o matrice $A\\in {\\mathbb R}^{n\\times n}$ cu submatricele lider\n",
    "principale $A^{[k]}$, $k=1:n-1$, nesingulare, acest algoritm suprascrie\n",
    "triunghiul superior al lui $A$, inclusiv diagonala, cu matricea superior\n",
    "triunghiulară $U = M_{n-1} M_{n-2} \\ldots M_1 A$. Triunghiul inferior al\n",
    "lui $A$ este suprascris cu multiplicatorii gaussieni $\\mu_{ik}$ care\n",
    "definesc matricele ITE $M_k$, $k=1:n-1$.)\n",
    "\n",
    "1. **pentru** $k=1:n-1$<br>\n",
    "&emsp;&emsp;1. **pentru** $i=k+1:n$<br>\n",
    "&emsp;&emsp;&emsp;&emsp;1. $a_{ik} \\leftarrow \\mu_{ik} = a_{ik}/a_{kk}$<br>\n",
    "&emsp;&emsp;2. **pentru** $i=k+1:n$<br>\n",
    "&emsp;&emsp;&emsp;&emsp;1. **pentru** $j=k+1:n$<br>\n",
    "&emsp;&emsp;&emsp;&emsp;&emsp;&emsp;1. $a_{ij} \\leftarrow a_{ij} - \\mu_{ik} a_{kj}$\n",
    "\n",
    "\n",
    "Efortul de calcul este $N_G\\approx \\frac{2n^3}{3}$ flopi, în timp ce\n",
    "memoria necesară este $M_G = n^2$ locaţii.\n",
    "\n",
    "_Observaţie._ Nesingularitatea submatricelor lider principale ale matricei $A$ nu este\n",
    "o condiţie necesară pentru existenţa şi unicitatea soluţiei unui sistem\n",
    "de forma $Ax=b$. Pentru a elimina această condiţie vom introduce\n",
    "pivotarea."
   ]
  },
  {
   "cell_type": "code",
   "execution_count": 34,
   "metadata": {},
   "outputs": [
    {
     "name": "stdout",
     "output_type": "stream",
     "text": [
      "[[0.8504 0.9802 0.0595 0.9238 0.5189]\n",
      " [0.2429 0.9886 0.5901 0.5773 0.7039]\n",
      " [0.5701 0.9483 0.8357 0.2326 0.3222]\n",
      " [0.2249 0.6157 0.5106 0.8858 0.0295]\n",
      " [0.4497 0.9273 0.498  0.527  0.7571]]\n",
      "\n",
      "\n",
      "[[ 0.8504  0.9802  0.0595  0.9238  0.5189]\n",
      " [ 0.2857  0.7086  0.5731  0.3135  0.5557]\n",
      " [ 0.6703  0.411   0.5603 -0.5155 -0.254 ]\n",
      " [ 0.2644  0.5032  0.3685  0.6738 -0.2937]\n",
      " [ 0.5288  0.5771  0.2423 -0.0261  0.2159]]\n"
     ]
    }
   ],
   "source": [
    "#Alg G\n",
    "def G(A):\n",
    "    n = A.shape[0]\n",
    "    for k in range(n-1):\n",
    "        for i in range(k+1,n):\n",
    "            A[i][k] = A[i][k]/A[k][k]\n",
    "            for j in range(k+1,n):\n",
    "                A[i][j] = A[i][j] - (A[i][k]*A[k][j])\n",
    "    return A\n",
    "# Testare\n",
    "n = 5\n",
    "A = np.random.rand(5,5)\n",
    "print(A)\n",
    "print('\\n')\n",
    "print(G(A))"
   ]
  },
  {
   "cell_type": "markdown",
   "metadata": {},
   "source": [
    "### Pivotare parţială\n",
    "Pivotarea parţială are loc prin permutarea numai a liniilor. La pasul\n",
    "$k$ al algoritmului G se aduce în poziţia $(k,k)$ a pivotului cel mai\n",
    "mare element în modul dintre elementele subdiagonale din coloana $k$,\n",
    "fie acesta $a_{i_k k}\\ne 0$, prin permutarea liniilor $k$ şi $i_k$.\n",
    "Acest lucru este echivalent cu premultiplicarea matricei $A$ cu matricea\n",
    "de permutare elementară $P_{i_k k}\\stackrel{\\rm not}{=}P_k$, astfel\n",
    "încât pasul $k$ realizează $$A \\leftarrow M_k P_k A,$$ iar întregul\n",
    "algoritm realizează triangularizarea matricii $A$ prin secvenţa\n",
    "$$A\\leftarrow U= M_{n-1} P_{n-1} M_{n-2} P_{n-2} \\ldots M_1 P_1 A.$$"
   ]
  },
  {
   "cell_type": "markdown",
   "metadata": {},
   "source": [
    "ALGORITM 2.4 _(GPP -- eliminarea gaussiană cu pivotare parţială)_ (Dată o matrice\n",
    "$A\\in{\\mathbb R}^{n\\times n}$, algoritmul suprascrie triunghiul\n",
    "superior al lui $A$ cu matricea superior triunghiulară\n",
    "$U= M_{n-1} P_{n-1} \\ldots M_1 P_1 A$. Triunghiul strict inferior al\n",
    "lui $A$ este suprascris de multiplicatorii gaussieni $\\mu_{ik}$ ce\n",
    "definesc matricele ITE $M_k$, $k=1:n-1$, iar întregii $i_k$, definind\n",
    "permutările de linii, sunt memoraţi într-un vector $p$, astfel încât\n",
    "$p(k)=i_k$, pentru $k=1:n-1$.)\n",
    "\n",
    "1. **pentru** $k=1:n-1$<br>\n",
    "&emsp;&emsp;1. Se determină primul $i_k \\in k:n$ astfel încât<br>\n",
    "&emsp;&emsp;&emsp;&emsp;$|a_{i_k k}|=\\max_{i=k:n} |a_{ik}|$.<br>\n",
    "&emsp;&emsp;2. $p(k) \\leftarrow i_k$<br>\n",
    "&emsp;&emsp;3. **pentru** $j=k:n$<br>\n",
    "&emsp;&emsp;&emsp;&emsp;1. $a_{kj} \\leftrightarrow a_{i_k j}$<br>\n",
    "&emsp;&emsp;4. **pentru** $i=k+1:n$<br>\n",
    "&emsp;&emsp;&emsp;&emsp;1. $a_{ik} \\leftarrow \\mu_{ik} = a_{ik}/a_{kk}$<br>\n",
    "&emsp;&emsp;5. **pentru** $i=k+1:n$<br>\n",
    "&emsp;&emsp;&emsp;&emsp;1. **pentru** $j=k+1:n$<br>\n",
    "&emsp;&emsp;&emsp;&emsp;&emsp;&emsp;1. $a_{ij} \\leftarrow a_{ij}-\\mu_{ik}a_{kj}$<br>\n",
    "\n",
    "Complexitatea algoritmului GPP este aceeaşi cu cea a algoritmului G."
   ]
  },
  {
   "cell_type": "code",
   "execution_count": 3,
   "metadata": {},
   "outputs": [],
   "source": [
    "def GPP(A):\n",
    "    n = A.shape[0]\n",
    "    p = np.zeros((n-1,1),dtype=np.uint16)\n",
    "    for k in range(n-1):\n",
    "        p[k] = np.argmax(np.absolute(A[k:, k])) + k\n",
    "        p_k = p[k].item()\n",
    "        for j in range(k,n):\n",
    "            A[k][j], A[p_k][j] = A[p_k][j], A[k][j]\n",
    "        for i in range(k+1,n):\n",
    "            A[i][k] = A[i][k]/A[k][k]\n",
    "        for i in range(k+1,n):\n",
    "            for j in range(k+1,n):\n",
    "                A[i][j] = A[i][j] - A[i][k]*A[k][j]\n",
    "    return (A, p)"
   ]
  },
  {
   "cell_type": "markdown",
   "metadata": {},
   "source": [
    "### Pivotare completă\n",
    "Proprietăţi numerice mai bune se obţin dacă pivotul de la pasul $k$ se\n",
    "alege drept cel mai mare element în modul dintre elementele $a_{ij}$, cu\n",
    "$i=k:n$, $j=k:n$. Acest cel mai mare element în modul, fie el\n",
    "$a_{i_k j_k}$, este adus în poziţia $(k,k)$ a pivotului prin permutarea\n",
    "liniilor $k$ şi $i_k$ şi a coloanelor $k$ şi $j_k$. Acest lucru este\n",
    "echivalent cu premultiplicarea matricei $A$ cu matricea de permutare\n",
    "elementară $P_{i_k k}\\stackrel{\\rm not}{=}P_k$ şi cu postmultiplicarea\n",
    "cu matricea de permutare elementară $Q_{j_k k}\\stackrel{\\rm not}{=}Q_k$,\n",
    "astfel încât pasul $k$ realizează $$A \\leftarrow M_k P_k A Q_k,$$ iar\n",
    "întregul algoritm realizează triangularizarea matricii $A$ prin secvenţa\n",
    "$$A\\leftarrow U=M_{n-1}P_{n-1}\\ldots M_2P_2M_1P_1AQ_1Q_2\\cdots Q_{n-1}.$$\n",
    "\n",
    "ALGORITM 2.5 _(GPC -- eliminarea gaussiană cu pivotare completă)_ (Dată a matrice\n",
    "$A \\in {\\mathbb R}^{n \\times n}$, acest algoritm suprascrie triunghiul\n",
    "superior al lui $A$ cu matricea superior triunghiulară $U$. Triunghiul\n",
    "strict inferior al lui $A$ este suprascris cu multiplicatorii\n",
    "gaussieni $\\mu_{ik}$, $k=1:n-1$, $i=k+1:n$. Întregii $i_k$ şi $j_k$,\n",
    "ce definesc permutările de linii, respectiv coloane, sunt memoraţi în\n",
    "doi vectori $p$ şi $q$, astfel încât $p(k) = i_k$ şi $q(k) = j_k$,\n",
    "pentru $k=1:n-1$.)\n",
    "\n",
    "1. **pentru** $k=1:n-1$<br>\n",
    "&emsp;&emsp;1. Se determină $i_k\\in k:n$ şi $j_k\\in k:n$ astfel încât<br>\n",
    "&emsp;&emsp;&emsp;&emsp;$|a_{i_k j_k}|=\\max_{i=k:n,j=k:n} |a_{ij}|$.<br>\n",
    "&emsp;&emsp;2. $p(k) \\leftarrow i_k$<br>\n",
    "&emsp;&emsp;3. $q(k) \\leftarrow j_k$<br>\n",
    "&emsp;&emsp;4. **pentru** $j=k:n$<br>\n",
    "&emsp;&emsp;&emsp;&emsp;1. $a_{kj} \\leftrightarrow a_{i_k j}$<br>\n",
    "&emsp;&emsp;5. **pentru** $i=1:n$<br>\n",
    "&emsp;&emsp;&emsp;&emsp;1. $a_{ik} \\leftrightarrow a_{i j_k}$<br>\n",
    "&emsp;&emsp;6. **pentru** $i=k+1:n$<br>\n",
    "&emsp;&emsp;&emsp;&emsp;1. $a_{ik} \\leftarrow \\mu_{ik} = a_{ik}/a_{kk}$<br>\n",
    "&emsp;&emsp;7. **pentru** $i=k+1:n$<br>\n",
    "&emsp;&emsp;&emsp;&emsp;1. **pentru** $j=k+1:n$<br>\n",
    "&emsp;&emsp;&emsp;&emsp;&emsp;&emsp;1. $a_{ij} \\leftarrow a_{ij}-\\mu_{ik} a_{kj}$\n",
    "\n",
    "Complexitatea algoritmului GPC este aceeaşi cu cea a algoritmului G."
   ]
  },
  {
   "cell_type": "code",
   "execution_count": 4,
   "metadata": {},
   "outputs": [],
   "source": [
    "def GPC(A):\n",
    "    n = A.shape[0]\n",
    "    p = np.zeros((n-1,1),dtype=np.uint16)\n",
    "    q = np.zeros((n-1,1),dtype=np.uint16)\n",
    "    for k in range(n-1):\n",
    "        max_ind = np.argmax(np.absolute(A[k:, k:]))\n",
    "        p[k] = int(max_ind/(n-k)) + k\n",
    "        q[k] = max_ind%(n-k) + k\n",
    "        p_k = p[k].item()\n",
    "        q_k = q[k].item()\n",
    "        \n",
    "        for j in range(k,n):\n",
    "            A[k][j], A[p_k][j] = A[p_k][j], A[k][j]\n",
    "        for i in range(n):\n",
    "            A[i][k], A[i][q_k] = A[i][q_k], A[i][k]\n",
    "        for i in range(k+1,n):\n",
    "            A[i][k] = A[i][k]/A[k][k]\n",
    "        for i in range(k+1,n):\n",
    "            for j in range(k+1,n):\n",
    "                A[i][j] = A[i][j] - A[i][k]*A[k][j]\n",
    "    return (A, p, q)"
   ]
  },
  {
   "cell_type": "markdown",
   "metadata": {},
   "source": [
    "### 2.4 Rezolvarea sistemelor liniare determinate\n",
    "Considerăm sistemul liniar $Ax=b$, cu $A$ nesingulară. Evident, sistemul\n",
    "$Ax=b$ este echivalent cu sistemul\n",
    "$$M_{n-1}P_{n-1}\\ldots M_1 P_1 A x=M_{n-1}P_{n-1}\\ldots M_1 P_1 b,$$\n",
    "unde $M_k$, $P_k$ sunt matricele utilizate de GPP, i.e. cu sistemul\n",
    "superior triunghiular $$Ux=M_{n-1}P_{n-1}\\ldots M_1 P_1 b,$$ Deci,\n",
    "pentru a rezolva $Ax= b$, trebuie să calculăm vectorul\n",
    "$$b \\leftarrow d = M_{n-1} P_{n-1} \\ldots M_1 P_1 b,$$ folosind\n",
    "următoarea schemă:\n",
    "\n",
    "1. **pentru** $k=1:n-1$<br>\n",
    "&emsp;&emsp;1. $b \\leftarrow P_k b$<br>\n",
    "&emsp;&emsp;2. $b \\leftarrow M_k b$.<br>\n",
    "\n",
    "În cazul utilizării algoritmului GPC sistemul $Ax = b$ este echivalent\n",
    "cu sistemul\n",
    "$$M_{n-1}P_{n-1}\\ldots M_1 P_1 A Q_1\\ldots Q_{n-1} Q_{n-1}\\ldots Q_1 x\n",
    "=  M_{n-1}P_{n-1}\\ldots M_1 P_1 b.$$ Notând\n",
    "$$Q_{n-1} \\ldots Q_1 x = y,$$ rezultă că $y$ poate fi calculat ca\n",
    "soluţie a sistemului superior triunghiular $Uy = d,$ unde\n",
    "$d=M_{n-1}P_{n-1}\\ldots M_1 P_1 b$. Din expresia lui $y$ avem\n",
    "$$x = Q_1 Q_2 \\ldots Q_{n-1}y$$ care poate fi calculat cu schema\n",
    "\n",
    "1. $x\\leftarrow y$<br>\n",
    "2. **pentru** $k=n-1:-1:1$<br>\n",
    "&emsp;&emsp;1. $x\\leftarrow Q_k x.$<br>\n"
   ]
  },
  {
   "cell_type": "markdown",
   "metadata": {},
   "source": [
    "ALGORITM 2.6\n",
    "_(SL\\_GPP -- Rezolvarea sistemelor liniare cu GPP)_ (Dată o matrice\n",
    "nesingulară $A\\in{\\mathbb R}^{n\\times n}$ şi un vector\n",
    "$b\\in {\\mathbb R}^n$, acest algoritm calculează soluţia\n",
    "$x\\in{\\mathbb R}^n$ a sistemului liniar $Ax=b$, folosind eliminarea\n",
    "gaussiană cu pivotare parţială.)\n",
    "\n",
    "1. $[\\,M,U,p\\,]=\\,$GPP$(A)$<br>\n",
    "2. **pentru** $k=1:n-1$<br>\n",
    "&emsp;&emsp;1. $b_k \\leftrightarrow b_{p(k)}$<br>\n",
    "&emsp;&emsp;2. **pentru** $i=k+1:n$<br>\n",
    "&emsp;&emsp;&emsp;&emsp;1. $b_i \\leftarrow b_i - \\mu_{ik} b_k$<br>\n",
    "3. $x =\\,$S\\_SUP\\_TR$(U,b)$<br><br>\n",
    "Complexitatea algoritmului este dată de\n",
    "$$N_{SL\\_GPP} = N_{GPP}+\\sum_{k=1}^{n-1}{2(n-k)}+N_{S\\_SUP\\_TR} \\approx\n",
    "\\frac{2n^3}{3} + n^2 + n^2 \\approx \\frac{2n^3}{3} \\approx N_{GPP}.$$"
   ]
  },
  {
   "cell_type": "code",
   "execution_count": 5,
   "metadata": {},
   "outputs": [
    {
     "name": "stdout",
     "output_type": "stream",
     "text": [
      "Corect!\n",
      "eroare :  4.8965039512584184e-15\n"
     ]
    }
   ],
   "source": [
    "def SL_GPP(A,b):\n",
    "    n = A.shape[0]\n",
    "    (A, p) = GPP(A)\n",
    "    M = np.tril(A)\n",
    "    U = np.triu(A)\n",
    "    for k in range(n-1):\n",
    "        p_k = p[k].item()\n",
    "        b[[k, p_k]] = b[[p_k, k]]\n",
    "        for i in range(k+1,n):\n",
    "            b[i] = b[i] - M[i][k]*b[k]\n",
    "    x = s_sup_tr(U,b)\n",
    "    return x \n",
    "\n",
    "#Testare \n",
    "n = 50\n",
    "A = np.random.rand(n,n)\n",
    "b = np.random.rand(n,1)\n",
    "A_cl = A.copy() #lucram cu referinta, copiem originalul\n",
    "b_cl = b.copy()\n",
    "# eroare = ||b-Ax||/||b||\n",
    "eroare = np.linalg.norm(b_cl-np.matmul(A_cl,SL_GPP(A,b)),2)/np.linalg.norm(b_cl,2)\n",
    "if eroare < 1E-4:\n",
    "    print('Corect!')\n",
    "else:\n",
    "    print('Gresit!')\n",
    "print('eroare : ',eroare)"
   ]
  },
  {
   "cell_type": "markdown",
   "metadata": {},
   "source": [
    "ALGORITM 2.7 _(SL\\_GPC -- rezolvarea sistemelor liniare cu GPC)_ (Dată o matrice\n",
    "nesingulară $A\\in{\\mathbb R}^{n\\times n}$ şi un vector\n",
    "$b \\in {\\mathbb R}^n$, acest algoritm calculează soluţia\n",
    "$x \\in {\\mathbb R}^n$ a sistemului liniar $Ax=b$, folosind eliminarea\n",
    "gaussiană cu pivotare completă.)\n",
    "\n",
    "1. $[\\,M,U,p,q\\,]=\\,$GPC$(A)$<br>\n",
    "2. **pentru** $k=1:n-1$<br>\n",
    "&emsp;&emsp;1. $b_k \\leftrightarrow b_{p(k)}$<br>\n",
    "&emsp;&emsp;2. **pentru** $i=k+1:n$<br>\n",
    "&emsp;&emsp;&emsp;&emsp;1. $b_i \\leftarrow b_i-\\mu_{ik} b_k$<br>\n",
    "3. $x =\\,$S\\_SUP\\_TR$(U,b)$<br>\n",
    "4. **pentru** $k=n-1:-1:1$<br>\n",
    "&emsp;&emsp;1. $x_k \\leftrightarrow x_{q(k)}$<br>"
   ]
  },
  {
   "cell_type": "code",
   "execution_count": 6,
   "metadata": {},
   "outputs": [
    {
     "name": "stdout",
     "output_type": "stream",
     "text": [
      "Corect!\n",
      "eroare :  7.774006188059314e-16\n"
     ]
    }
   ],
   "source": [
    "#Rezolvare de sisteme liniare cu GPC\n",
    "def SL_GPC(A,b):\n",
    "    (A, p, q) = GPC(A)\n",
    "    n = A.shape[0]\n",
    "    M = np.tril(A)\n",
    "    U = np.triu(A)\n",
    "    for k in range(n-1):\n",
    "        p_k = p[k].item()\n",
    "        b[[k, p_k]] = b[[p_k, k]]\n",
    "        for i in range(k+1,n):\n",
    "            b[i] = b[i] - M[i][k]*b[k]\n",
    "    x = s_sup_tr(U,b)\n",
    "    for k in range(n-2,-1,-1):\n",
    "        q_k = q[k].item()\n",
    "        x[[k, q_k]] = x[[q_k, k]]\n",
    "    return x\n",
    "\n",
    "#Verificare\n",
    "n = 50\n",
    "A = np.random.rand(n,n)\n",
    "b = np.random.rand(n,1)\n",
    "A_cl = A.copy() #lucram cu referinta, copiem originalul\n",
    "b_cl = b.copy()\n",
    "# eroare = ||b-Ax||/||b||\n",
    "eroare = np.linalg.norm(b_cl-np.matmul(A_cl,SL_GPC(A,b)),2)/np.linalg.norm(b_cl,2)\n",
    "if eroare < 1E-4:\n",
    "    print('Corect!')\n",
    "else:\n",
    "    print('Gresit!')\n",
    "print('eroare : ',eroare)"
   ]
  },
  {
   "cell_type": "markdown",
   "metadata": {},
   "source": [
    "# 2.5.2 B. Acasă"
   ]
  },
  {
   "cell_type": "code",
   "execution_count": 7,
   "metadata": {},
   "outputs": [
    {
     "name": "stdout",
     "output_type": "stream",
     "text": [
      "Corect!\n",
      "eroare :  1.33955560866472e-07\n"
     ]
    }
   ],
   "source": [
    "def s_sup_bidiag(A,b):\n",
    "    n = A.shape[0]\n",
    "    x = np.zeros((n,1))\n",
    "    x[n-1] = b[n-1]/A[n-1][n-1]\n",
    "    for i in range(n-2,-1,-1):\n",
    "        s = b[i];\n",
    "        s = s - A[i][i+1] * x[i+1]\n",
    "        x[i] = s/A[i][i]\n",
    "    return x\n",
    "\n",
    "n = 200\n",
    "A = np.random.rand(n,n)\n",
    "A = np.triu(A)-np.triu(A,2) #generam matricea superior bidiagonala\n",
    "b = np.random.rand(n,1)\n",
    "#eroare = ||b-Ax||/||b||\n",
    "eroare = np.linalg.norm(b - np.matmul(A,s_sup_bidiag(A,b)),2)/np.linalg.norm(b)\n",
    "if eroare < 1E-4:\n",
    "    print('Corect!')\n",
    "else:\n",
    "    print('Gresit!!')\n",
    "print('eroare : ',eroare)"
   ]
  },
  {
   "cell_type": "code",
   "execution_count": 8,
   "metadata": {},
   "outputs": [
    {
     "name": "stdout",
     "output_type": "stream",
     "text": [
      "Corect!\n",
      "eroare :  2.3809980081564257e-08\n"
     ]
    }
   ],
   "source": [
    "def s_inf_bidiag(A,b):\n",
    "    n = A.shape[0]\n",
    "    x = np.zeros((n,1))\n",
    "    x[0] = b[0]/A[0][0]\n",
    "    for i in range(1,n):\n",
    "        s = b[i]\n",
    "        s = s - (A[i][i-1] * x[i-1])\n",
    "        x[i] = s/A[i][i]\n",
    "    return x\n",
    "    \n",
    "n = 200\n",
    "A = np.random.rand(n,n)\n",
    "A = np.tril(A)-np.tril(A,-2) #generam matricea inferior bidiagonala\n",
    "b = np.random.rand(n,1)\n",
    "#eroare = ||b-Ax||/||b||\n",
    "eroare = np.linalg.norm(b - np.matmul(A,s_inf_bidiag(A,b)),2)/np.linalg.norm(b,2)\n",
    "if eroare < 1E-4:\n",
    "    print('Corect!')\n",
    "else:\n",
    "    print('Gresit!')\n",
    "print('eroare : ',eroare)"
   ]
  },
  {
   "cell_type": "code",
   "execution_count": 11,
   "metadata": {},
   "outputs": [
    {
     "name": "stdout",
     "output_type": "stream",
     "text": [
      "Corect!\n",
      "eroare :  7.05555174562329e-13\n"
     ]
    }
   ],
   "source": [
    "# Testare GPC pe coeficienti mai mari si numar mare de ecuatii\n",
    "n = 200;\n",
    "#Observatie : pentru n>200 poate dura putin mai mult rezolvarea sistemului\n",
    "A = 100*np.random.rand(n,n)\n",
    "b = np.random.rand(n,1)\n",
    "A_cl = A.copy() #lucram cu referinta\n",
    "b_cl = b.copy()\n",
    "eroare = np.linalg.norm(b_cl-np.matmul(A_cl,SL_GPC(A,b)),2)/np.linalg.norm(b_cl,2)\n",
    "if eroare < 1E-4:\n",
    "    print('Corect!')\n",
    "else:\n",
    "    print('Gresit!')\n",
    "print('eroare : ',eroare)"
   ]
  },
  {
   "cell_type": "markdown",
   "metadata": {},
   "source": [
    "# Animaţii"
   ]
  },
  {
   "cell_type": "markdown",
   "metadata": {},
   "source": [
    "## 1. Algoritm G"
   ]
  },
  {
   "cell_type": "code",
   "execution_count": null,
   "metadata": {},
   "outputs": [
    {
     "name": "stdout",
     "output_type": "stream",
     "text": [
      "\u001b[32m  0.060 \u001b[m\u001b[32m  0.110 \u001b[m\u001b[32m  0.100 \u001b[m\u001b[32m  0.320 \u001b[m\u001b[32m  0.370 \u001b[m ---\n",
      "\u001b[33m  5.667 \u001b[m\u001b[32m -0.553 \u001b[m\u001b[32m -0.447 \u001b[m\u001b[32m -1.533 \u001b[m\u001b[32m -2.087 \u001b[m   |\n",
      "\u001b[33m  0.667 \u001b[m\u001b[35m -0.023 \u001b[m\u001b[35m  0.023 \u001b[m\u001b[35m  0.157 \u001b[m\u001b[44m  0.103 \u001b[m <-|\n",
      "\u001b  0.340 \u001b\u001b  0.440 \u001b\u001b  0.190 \u001b\u001b  0.380 \u001b\u001b  0.270 \u001b\n",
      "\u001b  0.300 \u001b\u001b  0.290 \u001b\u001b  0.490 \u001b\u001b  0.080 \u001b\u001b  0.260 \u001b\n"
     ]
    }
   ],
   "source": [
    "#Alg G\n",
    "import time\n",
    "import numpy as np\n",
    "from IPython.display import clear_output\n",
    "def afisez_matrice_color(A,lin,col,k):\n",
    "    n = A.shape[0]\n",
    "    clear_output(wait=True)\n",
    "    for i in range(n):\n",
    "        for j in range(n):\n",
    "            #formatare output\n",
    "            if(A[i][j] >= 0):\n",
    "                cell_str = str(' '+str('{:2.3f}'.format(round(A[i][j],3)+0)))\n",
    "            else:\n",
    "                cell_str = str('{:2.3f}'.format(round(A[i][j],3)+0))\n",
    "            if(i<lin):\n",
    "                if(i<=k+1):\n",
    "                    if(j<i):\n",
    "                        print(\"\\x1b[33m\",cell_str,\"\\x1b[m\",end='')\n",
    "                    else:\n",
    "                        print(\"\\x1b[32m\",cell_str,\"\\x1b[m\",end='')\n",
    "                else:\n",
    "                    if(j<=k):\n",
    "                        print(\"\\x1b[33m\",cell_str,\"\\x1b[m\",end='')\n",
    "                    else:\n",
    "                        print(\"\\x1b[35m\",cell_str,\"\\x1b[m\",end='')\n",
    "            elif(i==lin):\n",
    "                if(j==col):\n",
    "                    print(\"\\x1b[44m\",cell_str,\"\\x1b[m\",end='')\n",
    "                elif(j<=k):\n",
    "                    print(\"\\x1b[33m\",cell_str,\"\\x1b[m\",end='')\n",
    "                elif(j<col and lin==k+1):\n",
    "                    print(\"\\x1b[32m\",cell_str,\"\\x1b[m\",end='')\n",
    "                elif(j<col):\n",
    "                    print(\"\\x1b[35m\",cell_str,\"\\x1b[m\",end='')\n",
    "                else:\n",
    "                    print(\"\\x1b\",cell_str,\"\\x1b\",end='')\n",
    "            else:\n",
    "                if(j<k):\n",
    "                    print(\"\\x1b[33m\",cell_str,\"\\x1b[m\",end='')\n",
    "                else:\n",
    "                    print(\"\\x1b\",cell_str,\"\\x1b\",end='')\n",
    "        if(i==k): #afisam sageata\n",
    "            print(' ---',end='')\n",
    "        elif(i>k and i<lin):\n",
    "            print('   |',end='')\n",
    "        elif(i==lin):\n",
    "            print(' <-|',end='')\n",
    "        print('\\n',end='')\n",
    "    try:\n",
    "        time.sleep(timp_tranzitie)\n",
    "    except KeyboardInterrupt:\n",
    "        pass\n",
    "    \n",
    "                \n",
    "\n",
    "def G_animat(A,timp_tranzitie):\n",
    "    globals().update(timp_tranzitie=timp_tranzitie)\n",
    "    n = A.shape[0]\n",
    "    A_cl = A.copy()\n",
    "    matrice_coef = np.zeros((n,n))\n",
    "    for k in range(n-1):\n",
    "        for i in range(k+1,n):\n",
    "            A[i][k] = A[i][k]/A[k][k]\n",
    "            for j in range(k+1,n):\n",
    "                A[i][j] = A[i][j] - (A[i][k]*A[k][j])\n",
    "                afisez_matrice_color(A,i,j,k)\n",
    "    afisez_matrice_color(A,n,n,n)\n",
    "    return A\n",
    "\n",
    "#Testare\n",
    "A = np.random.randint(1,50,size=(5,5))\n",
    "A = A.astype('float64')/100\n",
    "#rotunjim afisarea numerelor la 4 zecimale\n",
    "np.set_printoptions(precision=4)\n",
    "\n",
    "timp_tranzitie=10;\n",
    "A_rezultat = G_animat(A,timp_tranzitie)\n",
    "print('\\nMatrice finala:')\n",
    "print(A_rezultat)"
   ]
  },
  {
   "cell_type": "markdown",
   "metadata": {},
   "source": [
    "## 2. Algoritm GPP"
   ]
  },
  {
   "cell_type": "code",
   "execution_count": null,
   "metadata": {},
   "outputs": [],
   "source": [
    "def interschimb_linii_color(A,orig_index,pivot_index,\n",
    "                            pivot_j,lim_submatrice,trecPeste=False):\n",
    "    n = A.shape[0]\n",
    "    clear_output(wait=True)\n",
    "    if(orig_index != pivot_index):\n",
    "        trecPeste = False\n",
    "    for i in range(n):\n",
    "        for j in range(n):\n",
    "            #formatare output\n",
    "            if(A[i][j] >= 0):\n",
    "                cell_str = str(' '+str('{:.2f}'.format(round(A[i][j],2)+0)))\n",
    "            else:\n",
    "                cell_str = str('{:.2f}'.format(round(A[i][j],2)+0))\n",
    "        \n",
    "            if(i == pivot_index and j >= lim_submatrice):\n",
    "                if(j == pivot_j):\n",
    "                    print(\"\\x1b[43m\",cell_str,\"\\x1b[m\",end='')\n",
    "                else:\n",
    "                    print(\"\\x1b[34m\",cell_str,\"\\x1b[m\",end='')\n",
    "            elif(i == orig_index and j>= lim_submatrice):\n",
    "                print(\"\\x1b[31m\",cell_str,\"\\x1b[0m\",end='')\n",
    "            elif(i>=lim_submatrice and j>=lim_submatrice):\n",
    "                print(\"\\x1b[32m\",cell_str,\"\\x1b[0m\",end='')\n",
    "            elif(i>j):\n",
    "                print(\"\\x1b[33m\",cell_str,\"\\x1b[0m\",end='')\n",
    "            else:\n",
    "                print(\"\\x1b\", cell_str,\"\\x1b\",end='')\n",
    "        print('\\n',end='')\n",
    "    try:\n",
    "        if trecPeste==True:\n",
    "            raise KeyboardInterrupt\n",
    "        time.sleep(timp_tranzitie)\n",
    "    except KeyboardInterrupt:\n",
    "        pass\n",
    "        \n",
    "def GPP_animat(A, timp_tranizitie):\n",
    "    globals().update(timp_tranzitie=timp_tranzitie)\n",
    "    n = A.shape[0]\n",
    "    p = np.zeros((n-1,1),dtype=np.uint16)\n",
    "    for k in range(n-1):\n",
    "        p[k] = np.argmax(np.absolute(A[k:, k])) + k\n",
    "        p_k = p[k].item()\n",
    "        \n",
    "        interschimb_linii_color(A,k,p_k,k,k)\n",
    "        \n",
    "        for j in range(k,n):\n",
    "            A[k][j], A[p_k][j] = A[p_k][j], A[k][j]\n",
    "            \n",
    "        interschimb_linii_color(A,p_k,k,k,k,True)\n",
    "            \n",
    "        for i in range(k+1,n):\n",
    "            A[i][k] = A[i][k]/A[k][k]\n",
    "        for i in range(k+1,n):\n",
    "            for j in range(k+1,n):\n",
    "                A[i][j] = A[i][j] - A[i][k]*A[k][j]\n",
    "    interschimb_linii_color(A,-1,-1,-1,n)\n",
    "    return(A, p)\n",
    "    \n",
    "    \n",
    "    \n",
    "A = np.random.randint(1,5,size=(6,6))\n",
    "A = A.astype('float64')\n",
    "timp_tranzitie = 10\n",
    "(A_fin, p) = GPP_animat(A,timp_tranzitie)\n",
    "\n",
    "print('Matrice finala : ')\n",
    "print(A_fin)\n",
    "print('Vector permutare : ')\n",
    "print(p)\n"
   ]
  },
  {
   "cell_type": "markdown",
   "metadata": {},
   "source": [
    "## 3. Algoritm GPC"
   ]
  },
  {
   "cell_type": "code",
   "execution_count": null,
   "metadata": {
    "scrolled": false
   },
   "outputs": [],
   "source": [
    "\n",
    "def interschimb_color_gpc(A,orig_index,pivot_index,pivot_i,pivot_j,\n",
    "                          lim_submatrice,coloana=False,trecPeste=False):\n",
    "    n = A.shape[0]\n",
    "    clear_output(wait=True)\n",
    "    if(orig_index != pivot_index):\n",
    "        trecPeste = False\n",
    "    for i in range(n):\n",
    "        for j in range(n):\n",
    "            if(A[i][j] >= 0):\n",
    "                cell_str = str(' '+str('{:.3f}'.format(round(A[i][j],3)+0)))\n",
    "            else:\n",
    "                cell_str = str('{:.3f}'.format(round(A[i][j],3)+0))\n",
    "        \n",
    "            if(i == pivot_i and j == pivot_j):\n",
    "                print(\"\\x1b[43m\",cell_str,\"\\x1b[m\",end='')\n",
    "            elif(i == orig_index and j>=lim_submatrice and coloana == False):\n",
    "                print(\"\\x1b[34m\",cell_str,\"\\x1b[0m\",end='')\n",
    "            elif(i == pivot_index and j>=lim_submatrice and coloana == False):\n",
    "                print(\"\\x1b[31m\",cell_str,\"\\x1b[0m\",end='')\n",
    "            elif(j == orig_index and coloana == True):\n",
    "                print(\"\\x1b[34m\",cell_str,\"\\x1b[0m\",end='')\n",
    "            elif(j == pivot_index and coloana == True):\n",
    "                print(\"\\x1b[31m\",cell_str,\"\\x1b[0m\",end='')\n",
    "            elif(i>=lim_submatrice and j>=lim_submatrice):\n",
    "                print(\"\\x1b[32m\",cell_str,\"\\x1b[0m\",end='')\n",
    "            elif(i>j):\n",
    "                print(\"\\x1b[33m\",cell_str,\"\\x1b[0m\",end='')\n",
    "            else:\n",
    "                print(\"\\x1b\", cell_str,\"\\x1b\",end='')\n",
    "        print('\\n',end='')\n",
    "    try:\n",
    "        if trecPeste==True:\n",
    "            raise KeyboardInterrupt\n",
    "        time.sleep(timp_tranzitie)\n",
    "    except KeyboardInterrupt:\n",
    "        pass\n",
    "            \n",
    "        \n",
    "#GPC\n",
    "def GPC_animat(A, timp_tranzitie):\n",
    "    globals().update(timp_tranzitie=timp_tranzitie)\n",
    "    n = A.shape[0]\n",
    "    p = np.zeros((n-1,1),dtype=np.uint16)\n",
    "    q = np.zeros((n-1,1),dtype=np.uint16)\n",
    "    matrice_coef = np.zeros((n,n))\n",
    "    for k in range(n-1):\n",
    "        max_ind = np.argmax(np.absolute(A[k:, k:]))\n",
    "        p[k] = int(max_ind/(n-k)) + k\n",
    "        q[k] = max_ind%(n-k) + k\n",
    "        p_k = p[k].item()\n",
    "        q_k = q[k].item()\n",
    "        \n",
    "        interschimb_color_gpc(A,k,p_k,p_k,q_k,k,False)\n",
    "        for j in range(k,n):\n",
    "            A[k][j], A[p_k][j] = A[p_k][j], A[k][j]\n",
    "        interschimb_color_gpc(A,p_k,k,k,q_k,k,False,True)\n",
    "        \n",
    "        interschimb_color_gpc(A,k,q_k,k,q_k,k,True)\n",
    "        for i in range(n):\n",
    "            A[i][k], A[i][q_k] = A[i][q_k], A[i][k]\n",
    "        interschimb_color_gpc(A,q_k,k,k,k,k,True,True)\n",
    "        \n",
    "        for i in range(k+1,n):\n",
    "            A[i][k] = A[i][k]/A[k][k]\n",
    "        for i in range(k+1,n):\n",
    "            for j in range(k+1,n):\n",
    "                A[i][j] = A[i][j] - A[i][k]*A[k][j]\n",
    "    interschimb_color_gpc(A,n,n,n,n,n,True)\n",
    "    return (A, p, q)\n",
    "\n",
    "#Testare\n",
    "np.set_printoptions(precision=4)\n",
    "    \n",
    "A = np.random.randint(1,5,size=(6,6))\n",
    "A = A.astype('float64')\n",
    "#setare timp tranzitie\n",
    "timp_tranzitie = 10\n",
    "(A_fin, p, q) = GPC_animat(A,timp_tranzitie)\n",
    "print('Rezultat : ')\n",
    "print(A_fin)\n",
    "print('Permutari linii : ')\n",
    "print(p)\n",
    "print('Permutari coloane : ')\n",
    "print(q)\n"
   ]
  },
  {
   "cell_type": "code",
   "execution_count": null,
   "metadata": {},
   "outputs": [],
   "source": []
  }
 ],
 "metadata": {
  "kernelspec": {
   "display_name": "Python 3",
   "language": "python",
   "name": "python3"
  },
  "language_info": {
   "codemirror_mode": {
    "name": "ipython",
    "version": 3
   },
   "file_extension": ".py",
   "mimetype": "text/x-python",
   "name": "python",
   "nbconvert_exporter": "python",
   "pygments_lexer": "ipython3",
   "version": "3.7.3"
  }
 },
 "nbformat": 4,
 "nbformat_minor": 4
}
